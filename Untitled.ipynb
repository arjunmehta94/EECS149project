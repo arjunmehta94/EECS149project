{
 "cells": [
  {
   "cell_type": "code",
   "execution_count": 1,
   "metadata": {
    "collapsed": false
   },
   "outputs": [],
   "source": [
    "from dronekit import connect, VehicleMode\n",
    "import time\n",
    "from ipywidgets import widgets"
   ]
  },
  {
   "cell_type": "code",
   "execution_count": null,
   "metadata": {
    "collapsed": true
   },
   "outputs": [],
   "source": []
  },
  {
   "cell_type": "code",
   "execution_count": 7,
   "metadata": {
    "collapsed": false
   },
   "outputs": [],
   "source": [
    "def arm_and_takeoff(aTargetAltitude):\n",
    "    \"\"\"\n",
    "    Arms vehicle and fly to aTargetAltitude.\n",
    "    \"\"\"\n",
    "\n",
    "#     print \"Basic pre-arm checks\"\n",
    "#     # Don't try to arm until autopilot is ready\n",
    "#     while not vehicle.is_armable:\n",
    "#         print \" Waiting for vehicle to initialise...\"\n",
    "#         time.sleep(1)\n",
    "\n",
    "    print \"Arming motors\"\n",
    "    # Copter should arm in GUIDED mode\n",
    "    vehicle.mode    = VehicleMode(\"ALT_HOLD\")\n",
    "    vehicle.armed   = True\n",
    "\n",
    "    # Confirm vehicle armed before attempting to take off\n",
    "    while not vehicle.armed:\n",
    "        print \" Waiting for arming...\"\n",
    "        time.sleep(1)\n",
    "\n",
    "    print \"Taking off!\"\n",
    "    vehicle.simple_takeoff(aTargetAltitude) # Take off to target altitude\n",
    "\n",
    "    # Wait until the vehicle reaches a safe height before processing the goto (otherwise the command\n",
    "    #  after Vehicle.simple_takeoff will execute immediately).\n",
    "    while True:\n",
    "        print \" Altitude: \", vehicle.location.global_relative_frame.alt\n",
    "        #Break and return from function just below target altitude.\n",
    "        if vehicle.location.global_relative_frame.alt>=aTargetAltitude*0.95:\n",
    "            print \"Reached target altitude\"\n",
    "            break\n",
    "        time.sleep(1)\n",
    "    overrideCH3(1500)\n",
    "    vehicle.mode    = VehicleMode(\"ALT_HOLD\")\n",
    "\n",
    "def arm():\n",
    "    \"\"\"\n",
    "    Arms vehicle and fly to aTargetAltitude.\n",
    "    \"\"\"\n",
    "#     print \"Basic pre-arm checks\"\n",
    "#     # Don't try to arm until autopilot is ready\n",
    "#     while not vehicle.is_armable:\n",
    "#         print \" Waiting for vehicle to initialise...\"\n",
    "#         time.sleep(1)\n",
    "    \n",
    "    print \"Arming motors\"\n",
    "    # Copter should arm in GUIDED mode\n",
    "    vehicle.mode    = VehicleMode(\"ALT_HOLD\")\n",
    "    vehicle.armed   = True\n",
    "\n",
    "    # Confirm vehicle armed before attempting to take off\n",
    "    while not vehicle.armed:\n",
    "        print \" Waiting for arming...\"\n",
    "        time.sleep(1)\n",
    "\n",
    "\n",
    "def overrideCH3(val=None):\n",
    "    \"\"\"\n",
    "    Arms vehicle and fly to aTargetAltitude.\n",
    "    \"\"\"\n",
    "    \n",
    "    print \"Taking off!\"\n",
    "#     vehicle.simple_takeoff(aTargetAltitude) # Take off to target altitude\n",
    "    vehicle.channels.overrides['3'] = val\n",
    "    time.sleep(.1)\n",
    "    print(vehicle.channels)\n",
    "\n",
    "def overrideCH1(val=None):\n",
    "    \"\"\"\n",
    "    Arms vehicle and fly to aTargetAltitude.\n",
    "    \"\"\"\n",
    "    \n",
    "    print \"Taking off!\"\n",
    "#     vehicle.simple_takeoff(aTargetAltitude) # Take off to target altitude\n",
    "    vehicle.channels.overrides['1'] = val\n",
    "    time.sleep(.1)\n",
    "    print(vehicle.channels)"
   ]
  },
  {
   "cell_type": "code",
   "execution_count": 68,
   "metadata": {
    "collapsed": false
   },
   "outputs": [],
   "source": [
    "vehicle.close()"
   ]
  },
  {
   "cell_type": "code",
   "execution_count": 9,
   "metadata": {
    "collapsed": false,
    "scrolled": true
   },
   "outputs": [
    {
     "name": "stderr",
     "output_type": "stream",
     "text": [
      ">>> ArduCopter V3.2.1 (36b405fb)\n",
      ">>> Frame: QUAD\n"
     ]
    }
   ],
   "source": [
    "vehicle = connect('com7', wait_ready=True, baud = 57600)\n"
   ]
  },
  {
   "cell_type": "code",
   "execution_count": 10,
   "metadata": {
    "collapsed": false
   },
   "outputs": [],
   "source": [
    "vehicle.mode = VehicleMode(\"ACRO\")"
   ]
  },
  {
   "cell_type": "code",
   "execution_count": 11,
   "metadata": {
    "collapsed": false
   },
   "outputs": [
    {
     "ename": "TypeError",
     "evalue": "__init__() takes exactly 2 arguments (1 given)",
     "output_type": "error",
     "traceback": [
      "\u001b[0;31m---------------------------------------------------------------------------\u001b[0m",
      "\u001b[0;31mTypeError\u001b[0m                                 Traceback (most recent call last)",
      "\u001b[0;32m<ipython-input-11-aa499a93ba8d>\u001b[0m in \u001b[0;36m<module>\u001b[0;34m()\u001b[0m\n\u001b[0;32m----> 1\u001b[0;31m \u001b[0mVehicleMode\u001b[0m\u001b[1;33m(\u001b[0m\u001b[1;33m)\u001b[0m\u001b[1;33m\u001b[0m\u001b[0m\n\u001b[0m",
      "\u001b[0;31mTypeError\u001b[0m: __init__() takes exactly 2 arguments (1 given)"
     ]
    }
   ],
   "source": [
    "VehicleMode()"
   ]
  },
  {
   "cell_type": "code",
   "execution_count": null,
   "metadata": {
    "collapsed": false,
    "scrolled": true
   },
   "outputs": [],
   "source": [
    "print(vehicle.mode.name)\n",
    "print(vehicle.armed)"
   ]
  },
  {
   "cell_type": "code",
   "execution_count": 12,
   "metadata": {
    "collapsed": false,
    "scrolled": true
   },
   "outputs": [
    {
     "ename": "NameError",
     "evalue": "name 'arm' is not defined",
     "output_type": "error",
     "traceback": [
      "\u001b[0;31m---------------------------------------------------------------------------\u001b[0m",
      "\u001b[0;31mNameError\u001b[0m                                 Traceback (most recent call last)",
      "\u001b[0;32m<ipython-input-12-603256e1d5b3>\u001b[0m in \u001b[0;36m<module>\u001b[0;34m()\u001b[0m\n\u001b[0;32m----> 1\u001b[0;31m \u001b[0marm\u001b[0m\u001b[1;33m(\u001b[0m\u001b[1;33m)\u001b[0m\u001b[1;33m\u001b[0m\u001b[0m\n\u001b[0m",
      "\u001b[0;31mNameError\u001b[0m: name 'arm' is not defined"
     ]
    }
   ],
   "source": [
    "arm()"
   ]
  },
  {
   "cell_type": "code",
   "execution_count": 13,
   "metadata": {
    "collapsed": false,
    "scrolled": true
   },
   "outputs": [
    {
     "name": "stdout",
     "output_type": "stream",
     "text": [
      "{'1': 1496, '3': 900, '2': 1496, '5': 1551, '4': 1496, '7': 1496, '6': 1496, '8': 1496}\n"
     ]
    }
   ],
   "source": [
    "print(vehicle.channels)"
   ]
  },
  {
   "cell_type": "code",
   "execution_count": 26,
   "metadata": {
    "collapsed": false,
    "scrolled": true
   },
   "outputs": [
    {
     "name": "stdout",
     "output_type": "stream",
     "text": [
      "Arming motors\n",
      " Waiting for arming...\n"
     ]
    },
    {
     "name": "stderr",
     "output_type": "stream",
     "text": [
      ">>> Calibrating barometer\n",
      ">>> barometer calibration complete\n",
      ">>> Initialising APM...\n"
     ]
    },
    {
     "name": "stdout",
     "output_type": "stream",
     "text": [
      "Taking off!\n",
      " Altitude:  0.0\n",
      " Altitude:  0.05\n",
      " Altitude:  0.12\n",
      " Altitude:  0.22\n",
      " Altitude:  0.24\n",
      " Altitude:  0.29\n",
      " Altitude:  0.35\n",
      " Altitude:  0.41\n",
      " Altitude:  0.41\n",
      " Altitude:  0.43\n",
      " Altitude:  0.41\n",
      " Altitude:  0.32\n",
      " Altitude:  0.21\n",
      " Altitude:  0.11\n",
      " Altitude:  0.15\n",
      " Altitude:  0.25\n",
      " Altitude:  0.31\n",
      " Altitude:  0.37\n",
      " Altitude:  0.44\n",
      " Altitude:  0.51\n",
      "Reached target altitude\n",
      "Taking off!\n",
      "{'1': 900, '3': 900, '2': 900, '5': 900, '4': 900, '7': 900, '6': 900, '8': 900}\n"
     ]
    },
    {
     "name": "stderr",
     "output_type": "stream",
     "text": [
      ">>> DCM bad heading\n"
     ]
    }
   ],
   "source": [
    "arm_and_takeoff(.5)"
   ]
  },
  {
   "cell_type": "code",
   "execution_count": 14,
   "metadata": {
    "collapsed": false
   },
   "outputs": [
    {
     "name": "stderr",
     "output_type": "stream",
     "text": [
      ">>> GROUND START\n",
      ">>> Initialising APM...\n",
      ">>> Calibrating barometer\n",
      ">>> barometer calibration complete\n"
     ]
    },
    {
     "name": "stdout",
     "output_type": "stream",
     "text": [
      "Device com7 is dead\n"
     ]
    },
    {
     "name": "stderr",
     "output_type": "stream",
     "text": [
      ">>> Link timeout, no heartbeat in last 5 seconds\n",
      ">>> No heartbeat in 30 seconds, aborting.\n"
     ]
    }
   ],
   "source": [
    "vehicle.armed = True"
   ]
  },
  {
   "cell_type": "code",
   "execution_count": 107,
   "metadata": {
    "collapsed": false
   },
   "outputs": [],
   "source": [
    "vehicle.armed = False"
   ]
  },
  {
   "cell_type": "code",
   "execution_count": 8,
   "metadata": {
    "collapsed": false
   },
   "outputs": [
    {
     "name": "stdout",
     "output_type": "stream",
     "text": [
      "Arming motors\n",
      " Waiting for arming...\n"
     ]
    },
    {
     "name": "stderr",
     "output_type": "stream",
     "text": [
      ">>> Calibrating barometer\n",
      ">>> barometer calibration complete\n",
      ">>> Initialising APM...\n"
     ]
    },
    {
     "name": "stdout",
     "output_type": "stream",
     "text": [
      " Waiting for arming...\n"
     ]
    }
   ],
   "source": [
    "arm()"
   ]
  },
  {
   "cell_type": "code",
   "execution_count": 109,
   "metadata": {
    "collapsed": false
   },
   "outputs": [
    {
     "name": "stdout",
     "output_type": "stream",
     "text": [
      "Taking off!\n",
      "{'1': 1486, '3': 992, '2': 1509, '5': 1502, '4': 1500, '7': 1501, '6': 992, '8': 1502}\n",
      "Device com3 is dead\n"
     ]
    },
    {
     "name": "stderr",
     "output_type": "stream",
     "text": [
      ">>> Link timeout, no heartbeat in last 5 seconds\n"
     ]
    }
   ],
   "source": [
    "overrideCH3(1065)"
   ]
  },
  {
   "cell_type": "code",
   "execution_count": 12,
   "metadata": {
    "collapsed": false
   },
   "outputs": [
    {
     "name": "stdout",
     "output_type": "stream",
     "text": [
      "Taking off!\n",
      "{'1': 1700, '3': 991, '2': 1504, '5': 1502, '4': 1500, '7': 1502, '6': 992, '8': 1501}\n"
     ]
    }
   ],
   "source": [
    "overrideCH1(None)"
   ]
  },
  {
   "cell_type": "code",
   "execution_count": 16,
   "metadata": {
    "collapsed": false
   },
   "outputs": [
    {
     "data": {
      "text/plain": [
       "False"
      ]
     },
     "execution_count": 16,
     "metadata": {},
     "output_type": "execute_result"
    }
   ],
   "source": [
    "vehicle.armed"
   ]
  },
  {
   "cell_type": "code",
   "execution_count": null,
   "metadata": {
    "collapsed": true
   },
   "outputs": [],
   "source": [
    "vehicle.channels.overrides['3']\n",
    "time.sleep(1)"
   ]
  },
  {
   "cell_type": "code",
   "execution_count": null,
   "metadata": {
    "collapsed": false
   },
   "outputs": [],
   "source": [
    "vehicle.channels.overrides['3'] = 1700\n",
    "time.sleep(1)"
   ]
  },
  {
   "cell_type": "code",
   "execution_count": 26,
   "metadata": {
    "collapsed": false
   },
   "outputs": [
    {
     "ename": "KeyError",
     "evalue": "'3'",
     "output_type": "error",
     "traceback": [
      "\u001b[1;31m---------------------------------------------------------------------------\u001b[0m",
      "\u001b[1;31mKeyError\u001b[0m                                  Traceback (most recent call last)",
      "\u001b[1;32m<ipython-input-26-c970aecdd614>\u001b[0m in \u001b[0;36m<module>\u001b[1;34m()\u001b[0m\n\u001b[1;32m----> 1\u001b[1;33m \u001b[1;32mdel\u001b[0m \u001b[0mvehicle\u001b[0m\u001b[1;33m.\u001b[0m\u001b[0mchannels\u001b[0m\u001b[1;33m.\u001b[0m\u001b[0moverrides\u001b[0m\u001b[1;33m[\u001b[0m\u001b[1;34m'3'\u001b[0m\u001b[1;33m]\u001b[0m\u001b[1;33m\u001b[0m\u001b[0m\n\u001b[0m",
      "\u001b[1;32mC:\\Users\\tmeta_000\\Anaconda2\\lib\\site-packages\\dronekit\\__init__.pyc\u001b[0m in \u001b[0;36m__delitem__\u001b[1;34m(self, key)\u001b[0m\n\u001b[0;32m    726\u001b[0m \u001b[1;33m\u001b[0m\u001b[0m\n\u001b[0;32m    727\u001b[0m     \u001b[1;32mdef\u001b[0m \u001b[0m__delitem__\u001b[0m\u001b[1;33m(\u001b[0m\u001b[0mself\u001b[0m\u001b[1;33m,\u001b[0m \u001b[0mkey\u001b[0m\u001b[1;33m)\u001b[0m\u001b[1;33m:\u001b[0m\u001b[1;33m\u001b[0m\u001b[0m\n\u001b[1;32m--> 728\u001b[1;33m         \u001b[0mdict\u001b[0m\u001b[1;33m.\u001b[0m\u001b[0m__delitem__\u001b[0m\u001b[1;33m(\u001b[0m\u001b[0mself\u001b[0m\u001b[1;33m,\u001b[0m \u001b[0mstr\u001b[0m\u001b[1;33m(\u001b[0m\u001b[0mkey\u001b[0m\u001b[1;33m)\u001b[0m\u001b[1;33m)\u001b[0m\u001b[1;33m\u001b[0m\u001b[0m\n\u001b[0m\u001b[0;32m    729\u001b[0m         \u001b[0mself\u001b[0m\u001b[1;33m.\u001b[0m\u001b[0m_send\u001b[0m\u001b[1;33m(\u001b[0m\u001b[1;33m)\u001b[0m\u001b[1;33m\u001b[0m\u001b[0m\n\u001b[0;32m    730\u001b[0m \u001b[1;33m\u001b[0m\u001b[0m\n",
      "\u001b[1;31mKeyError\u001b[0m: '3'"
     ]
    },
    {
     "name": "stderr",
     "output_type": "stream",
     "text": [
      ">>> Link timeout, no heartbeat in last 5 seconds\n",
      ">>> No heartbeat in 30 seconds, aborting.\n"
     ]
    }
   ],
   "source": [
    "del vehicle.channels.overrides['3']"
   ]
  },
  {
   "cell_type": "code",
   "execution_count": null,
   "metadata": {
    "collapsed": true
   },
   "outputs": [],
   "source": [
    "vehicle.armed = True"
   ]
  },
  {
   "cell_type": "code",
   "execution_count": 6,
   "metadata": {
    "collapsed": false
   },
   "outputs": [
    {
     "ename": "NameError",
     "evalue": "global name 'vehicle' is not defined",
     "output_type": "error",
     "traceback": [
      "\u001b[0;31m---------------------------------------------------------------------------\u001b[0m",
      "\u001b[0;31mNameError\u001b[0m                                 Traceback (most recent call last)",
      "\u001b[0;32m<ipython-input-6-2028b7bed8ef>\u001b[0m in \u001b[0;36mf\u001b[0;34m(yaw)\u001b[0m\n\u001b[1;32m      6\u001b[0m \u001b[1;33m\u001b[0m\u001b[0m\n\u001b[1;32m      7\u001b[0m \u001b[1;32mdef\u001b[0m \u001b[0mf\u001b[0m\u001b[1;33m(\u001b[0m\u001b[0myaw\u001b[0m\u001b[1;33m)\u001b[0m\u001b[1;33m:\u001b[0m\u001b[1;33m\u001b[0m\u001b[0m\n\u001b[0;32m----> 8\u001b[0;31m     \u001b[0mvehicle\u001b[0m\u001b[1;33m.\u001b[0m\u001b[0mchannels\u001b[0m\u001b[1;33m.\u001b[0m\u001b[0moverrides\u001b[0m\u001b[1;33m[\u001b[0m\u001b[1;34m'3'\u001b[0m\u001b[1;33m]\u001b[0m \u001b[1;33m=\u001b[0m \u001b[0myaw\u001b[0m\u001b[1;33m\u001b[0m\u001b[0m\n\u001b[0m\u001b[1;32m      9\u001b[0m     \u001b[1;32mprint\u001b[0m\u001b[1;33m(\u001b[0m\u001b[0myaw\u001b[0m\u001b[1;33m)\u001b[0m\u001b[1;33m\u001b[0m\u001b[0m\n\u001b[1;32m     10\u001b[0m \u001b[1;33m\u001b[0m\u001b[0m\n",
      "\u001b[0;31mNameError\u001b[0m: global name 'vehicle' is not defined"
     ]
    },
    {
     "data": {
      "text/plain": [
       "<function __main__.f>"
      ]
     },
     "execution_count": 6,
     "metadata": {},
     "output_type": "execute_result"
    }
   ],
   "source": [
    "from ipywidgets import *\n",
    "from IPython.display import display\n",
    "\n",
    "ChanRelease = widgets.Button(description=\"Release Channels!\")\n",
    "display(ChanRelease)\n",
    "\n",
    "def f(yaw):\n",
    "    vehicle.channels.overrides['3'] = yaw\n",
    "    print(yaw)\n",
    "    \n",
    "def on_button_clicked(b):\n",
    "    vehicle.channels.overrides['3'] = ''\n",
    "    \n",
    "    print(\"Release Channels\")\n",
    "    \n",
    "ChanRelease.on_click(on_button_clicked)\n",
    "    \n",
    "interact(f, yaw=(1,100,1))"
   ]
  },
  {
   "cell_type": "code",
   "execution_count": 1,
   "metadata": {
    "collapsed": false
   },
   "outputs": [
    {
     "name": "stderr",
     "output_type": "stream",
     "text": [
      "C:\\Users\\Gero\\Anaconda2\\lib\\site-packages\\IPython\\html.py:14: ShimWarning: The `IPython.html` package has been deprecated. You should import from `notebook` instead. `IPython.html.widgets` has moved to `ipywidgets`.\n",
      "  \"`IPython.html.widgets` has moved to `ipywidgets`.\", ShimWarning)\n"
     ]
    },
    {
     "ename": "NameError",
     "evalue": "name 'display' is not defined",
     "output_type": "error",
     "traceback": [
      "\u001b[0;31m---------------------------------------------------------------------------\u001b[0m",
      "\u001b[0;31mNameError\u001b[0m                                 Traceback (most recent call last)",
      "\u001b[0;32m<ipython-input-1-435f1a522331>\u001b[0m in \u001b[0;36m<module>\u001b[0;34m()\u001b[0m\n\u001b[1;32m      1\u001b[0m \u001b[1;32mfrom\u001b[0m \u001b[0mIPython\u001b[0m\u001b[1;33m.\u001b[0m\u001b[0mhtml\u001b[0m\u001b[1;33m.\u001b[0m\u001b[0mwidgets\u001b[0m \u001b[1;32mimport\u001b[0m \u001b[1;33m*\u001b[0m\u001b[1;33m\u001b[0m\u001b[0m\n\u001b[1;32m      2\u001b[0m \u001b[0mw\u001b[0m \u001b[1;33m=\u001b[0m \u001b[0mIntSlider\u001b[0m\u001b[1;33m(\u001b[0m\u001b[1;33m)\u001b[0m\u001b[1;33m\u001b[0m\u001b[0m\n\u001b[0;32m----> 3\u001b[0;31m \u001b[0mdisplay\u001b[0m\u001b[1;33m(\u001b[0m\u001b[0mw\u001b[0m\u001b[1;33m)\u001b[0m\u001b[1;33m\u001b[0m\u001b[0m\n\u001b[0m\u001b[1;32m      4\u001b[0m \u001b[1;33m\u001b[0m\u001b[0m\n\u001b[1;32m      5\u001b[0m \u001b[1;32mwhile\u001b[0m\u001b[1;33m(\u001b[0m\u001b[0mTrue\u001b[0m\u001b[1;33m)\u001b[0m\u001b[1;33m:\u001b[0m\u001b[1;33m\u001b[0m\u001b[0m\n",
      "\u001b[0;31mNameError\u001b[0m: name 'display' is not defined"
     ]
    }
   ],
   "source": [
    "#use above code (deprecated)\n",
    "from IPython.html.widgets import *\n",
    "w = IntSlider()\n",
    "display(w)\n",
    "\n",
    "while(True):\n",
    "    print(w.value)"
   ]
  },
  {
   "cell_type": "code",
   "execution_count": 17,
   "metadata": {
    "collapsed": false
   },
   "outputs": [
    {
     "ename": "NameError",
     "evalue": "name 'vehicle' is not defined",
     "output_type": "error",
     "traceback": [
      "\u001b[0;31m---------------------------------------------------------------------------\u001b[0m",
      "\u001b[0;31mNameError\u001b[0m                                 Traceback (most recent call last)",
      "\u001b[0;32m<ipython-input-17-7b21815f2520>\u001b[0m in \u001b[0;36m<module>\u001b[0;34m()\u001b[0m\n\u001b[0;32m----> 1\u001b[0;31m \u001b[0mvehicle\u001b[0m\u001b[1;33m.\u001b[0m\u001b[0marmed\u001b[0m\u001b[1;33m\u001b[0m\u001b[0m\n\u001b[0m",
      "\u001b[0;31mNameError\u001b[0m: name 'vehicle' is not defined"
     ]
    }
   ],
   "source": [
    "vehicle.armed"
   ]
  },
  {
   "cell_type": "code",
   "execution_count": null,
   "metadata": {
    "collapsed": false
   },
   "outputs": [],
   "source": [
    "vehicle.mode    = VehicleMode(\"GUIDED\")\n",
    "vehicle.armed   = True"
   ]
  }
 ],
 "metadata": {
  "anaconda-cloud": {},
  "kernelspec": {
   "display_name": "Python [default]",
   "language": "python",
   "name": "python2"
  },
  "language_info": {
   "codemirror_mode": {
    "name": "ipython",
    "version": 2
   },
   "file_extension": ".py",
   "mimetype": "text/x-python",
   "name": "python",
   "nbconvert_exporter": "python",
   "pygments_lexer": "ipython2",
   "version": "2.7.12"
  },
  "widgets": {
   "state": {
    "01d501bcea0e46878c2a2119c0228ec8": {
     "views": [
      {
       "cell_index": 19
      }
     ]
    },
    "0b00e1c26e6a4649a834c25f8395ff56": {
     "views": [
      {
       "cell_index": 19
      }
     ]
    },
    "13b6ff3769654dc7921dda2a261f43b4": {
     "views": [
      {
       "cell_index": 19
      }
     ]
    },
    "3068e3cd8ccc4dea9ca21c05bcb836b7": {
     "views": [
      {
       "cell_index": 19
      }
     ]
    },
    "4077433db64b41918055d79462dde87c": {
     "views": [
      {
       "cell_index": 19
      }
     ]
    },
    "4dbf66fb47a1449090f94369cd893766": {
     "views": [
      {
       "cell_index": 19
      }
     ]
    },
    "6344070ccbba4f9ca07b175fe426c680": {
     "views": [
      {
       "cell_index": 19
      }
     ]
    },
    "6b03188b6d604766a0e96d4756f8a33c": {
     "views": [
      {
       "cell_index": 19
      }
     ]
    },
    "77ca800b641844938720c36a36bf8ab7": {
     "views": [
      {
       "cell_index": 19
      }
     ]
    },
    "78eb3b0e11a6433eb590f29eeea3071e": {
     "views": [
      {
       "cell_index": 19
      }
     ]
    },
    "b1987d683d464800aa83cc16b356190c": {
     "views": [
      {
       "cell_index": 19
      }
     ]
    },
    "f97f119ec7c2419aa98d15ffabebe427": {
     "views": [
      {
       "cell_index": 19
      }
     ]
    }
   },
   "version": "1.2.0"
  }
 },
 "nbformat": 4,
 "nbformat_minor": 0
}
