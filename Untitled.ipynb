{
 "cells": [
  {
   "cell_type": "code",
   "execution_count": 1,
   "metadata": {
    "collapsed": false
   },
   "outputs": [],
   "source": [
    "from dronekit import connect, VehicleMode\n",
    "import time"
   ]
  },
  {
   "cell_type": "code",
   "execution_count": 25,
   "metadata": {
    "collapsed": false
   },
   "outputs": [],
   "source": [
    "def arm_and_takeoff(aTargetAltitude):\n",
    "    \"\"\"\n",
    "    Arms vehicle and fly to aTargetAltitude.\n",
    "    \"\"\"\n",
    "\n",
    "#     print \"Basic pre-arm checks\"\n",
    "#     # Don't try to arm until autopilot is ready\n",
    "#     while not vehicle.is_armable:\n",
    "#         print \" Waiting for vehicle to initialise...\"\n",
    "#         time.sleep(1)\n",
    "\n",
    "    print \"Arming motors\"\n",
    "    # Copter should arm in GUIDED mode\n",
    "    vehicle.mode    = VehicleMode(\"GUIDED\")\n",
    "    vehicle.armed   = True\n",
    "\n",
    "    # Confirm vehicle armed before attempting to take off\n",
    "    while not vehicle.armed:\n",
    "        print \" Waiting for arming...\"\n",
    "        time.sleep(1)\n",
    "\n",
    "    print \"Taking off!\"\n",
    "    vehicle.simple_takeoff(aTargetAltitude) # Take off to target altitude\n",
    "\n",
    "    # Wait until the vehicle reaches a safe height before processing the goto (otherwise the command\n",
    "    #  after Vehicle.simple_takeoff will execute immediately).\n",
    "    while True:\n",
    "        print \" Altitude: \", vehicle.location.global_relative_frame.alt\n",
    "        #Break and return from function just below target altitude.\n",
    "        if vehicle.location.global_relative_frame.alt>=aTargetAltitude*0.95:\n",
    "            print \"Reached target altitude\"\n",
    "            break\n",
    "        time.sleep(1)\n",
    "    overrideCH3(1500)\n",
    "    vehicle.mode    = VehicleMode(\"ALT_HOLD\")\n",
    "\n",
    "def arm():\n",
    "    \"\"\"\n",
    "    Arms vehicle and fly to aTargetAltitude.\n",
    "    \"\"\"\n",
    "    \n",
    "    print \"Arming motors\"\n",
    "    # Copter should arm in GUIDED mode\n",
    "    vehicle.mode    = VehicleMode(\"ACRO\")\n",
    "    vehicle.armed   = True\n",
    "\n",
    "    # Confirm vehicle armed before attempting to take off\n",
    "    while not vehicle.armed:\n",
    "        print \" Waiting for arming...\"\n",
    "        time.sleep(1)\n",
    "\n",
    "\n",
    "def overrideCH3(val=None):\n",
    "    \"\"\"\n",
    "    Arms vehicle and fly to aTargetAltitude.\n",
    "    \"\"\"\n",
    "    \n",
    "    print \"Taking off!\"\n",
    "#     vehicle.simple_takeoff(aTargetAltitude) # Take off to target altitude\n",
    "    vehicle.channels.overrides['3'] = val\n",
    "    time.sleep(.1)\n",
    "    print(vehicle.channels)\n",
    "\n",
    "def overrideCH4(val=None):\n",
    "    \"\"\"\n",
    "    Arms vehicle and fly to aTargetAltitude.\n",
    "    \"\"\"\n",
    "    \n",
    "    print \"Taking off!\"\n",
    "#     vehicle.simple_takeoff(aTargetAltitude) # Take off to target altitude\n",
    "    vehicle.channels.overrides['4'] = val\n",
    "    time.sleep(.1)\n",
    "    print(vehicle.channels)"
   ]
  },
  {
   "cell_type": "code",
   "execution_count": 68,
   "metadata": {
    "collapsed": false
   },
   "outputs": [],
   "source": [
    "vehicle.close()"
   ]
  },
  {
   "cell_type": "code",
   "execution_count": 3,
   "metadata": {
    "collapsed": false
   },
   "outputs": [
    {
     "name": "stderr",
     "output_type": "stream",
     "text": [
      ">>> ArduCopter V3.2.1 (36b405fb)\n",
      ">>> Frame: QUAD\n"
     ]
    }
   ],
   "source": [
    "vehicle = connect('com3', wait_ready=True, baud = 57600)\n"
   ]
  },
  {
   "cell_type": "code",
   "execution_count": 43,
   "metadata": {
    "collapsed": false
   },
   "outputs": [],
   "source": [
    "vehicle.mode = VehicleMode(\"ACRO\")"
   ]
  },
  {
   "cell_type": "code",
   "execution_count": 8,
   "metadata": {
    "collapsed": false
   },
   "outputs": [
    {
     "ename": "AttributeError",
     "evalue": "type object 'VehicleMode' has no attribute 'name'",
     "output_type": "error",
     "traceback": [
      "\u001b[1;31m---------------------------------------------------------------------------\u001b[0m",
      "\u001b[1;31mAttributeError\u001b[0m                            Traceback (most recent call last)",
      "\u001b[1;32m<ipython-input-8-3c814bdd70bd>\u001b[0m in \u001b[0;36m<module>\u001b[1;34m()\u001b[0m\n\u001b[1;32m----> 1\u001b[1;33m \u001b[0mVehicleMode\u001b[0m\u001b[1;33m.\u001b[0m\u001b[0mname\u001b[0m\u001b[1;33m\u001b[0m\u001b[0m\n\u001b[0m",
      "\u001b[1;31mAttributeError\u001b[0m: type object 'VehicleMode' has no attribute 'name'"
     ]
    }
   ],
   "source": [
    "VehicleMode()"
   ]
  },
  {
   "cell_type": "code",
   "execution_count": 48,
   "metadata": {
    "collapsed": false,
    "scrolled": true
   },
   "outputs": [
    {
     "name": "stdout",
     "output_type": "stream",
     "text": [
      "ACRO\n",
      "False\n"
     ]
    }
   ],
   "source": [
    "print(vehicle.mode.name)\n",
    "print(vehicle.armed)"
   ]
  },
  {
   "cell_type": "code",
   "execution_count": 30,
   "metadata": {
    "collapsed": false
   },
   "outputs": [
    {
     "name": "stdout",
     "output_type": "stream",
     "text": [
      "Arming motors\n",
      " Waiting for arming...\n"
     ]
    },
    {
     "name": "stderr",
     "output_type": "stream",
     "text": [
      ">>> Calibrating barometer\n",
      ">>> barometer calibration complete\n",
      ">>> Initialising APM...\n"
     ]
    },
    {
     "name": "stdout",
     "output_type": "stream",
     "text": [
      " Waiting for arming...\n"
     ]
    }
   ],
   "source": [
    "arm()"
   ]
  },
  {
   "cell_type": "code",
   "execution_count": 78,
   "metadata": {
    "collapsed": false
   },
   "outputs": [],
   "source": [
    "vehicle.mode = VehicleMode(\"ACRO\")"
   ]
  },
  {
   "cell_type": "code",
   "execution_count": 42,
   "metadata": {
    "collapsed": false
   },
   "outputs": [
    {
     "name": "stdout",
     "output_type": "stream",
     "text": [
      "{'1': 900, '3': 1500, '2': 900, '5': 900, '4': 900, '7': 900, '6': 900, '8': 900}\n"
     ]
    },
    {
     "name": "stderr",
     "output_type": "stream",
     "text": [
      ">>> DCM bad heading\n",
      ">>> DCM bad heading\n"
     ]
    }
   ],
   "source": [
    "print(vehicle.channels)"
   ]
  },
  {
   "cell_type": "code",
   "execution_count": 26,
   "metadata": {
    "collapsed": false,
    "scrolled": true
   },
   "outputs": [
    {
     "name": "stdout",
     "output_type": "stream",
     "text": [
      "Arming motors\n",
      " Waiting for arming...\n"
     ]
    },
    {
     "name": "stderr",
     "output_type": "stream",
     "text": [
      ">>> Calibrating barometer\n",
      ">>> barometer calibration complete\n",
      ">>> Initialising APM...\n"
     ]
    },
    {
     "name": "stdout",
     "output_type": "stream",
     "text": [
      "Taking off!\n",
      " Altitude:  0.0\n",
      " Altitude:  0.05\n",
      " Altitude:  0.12\n",
      " Altitude:  0.22\n",
      " Altitude:  0.24\n",
      " Altitude:  0.29\n",
      " Altitude:  0.35\n",
      " Altitude:  0.41\n",
      " Altitude:  0.41\n",
      " Altitude:  0.43\n",
      " Altitude:  0.41\n",
      " Altitude:  0.32\n",
      " Altitude:  0.21\n",
      " Altitude:  0.11\n",
      " Altitude:  0.15\n",
      " Altitude:  0.25\n",
      " Altitude:  0.31\n",
      " Altitude:  0.37\n",
      " Altitude:  0.44\n",
      " Altitude:  0.51\n",
      "Reached target altitude\n",
      "Taking off!\n",
      "{'1': 900, '3': 900, '2': 900, '5': 900, '4': 900, '7': 900, '6': 900, '8': 900}\n"
     ]
    },
    {
     "name": "stderr",
     "output_type": "stream",
     "text": [
      ">>> DCM bad heading\n"
     ]
    }
   ],
   "source": [
    "arm_and_takeoff(.5)"
   ]
  },
  {
   "cell_type": "code",
   "execution_count": 92,
   "metadata": {
    "collapsed": false
   },
   "outputs": [],
   "source": [
    "vehicle.mode = VehicleMode(\"STABILIZE\")"
   ]
  },
  {
   "cell_type": "code",
   "execution_count": 62,
   "metadata": {
    "collapsed": false
   },
   "outputs": [
    {
     "name": "stderr",
     "output_type": "stream",
     "text": [
      ">>> Calibrating barometer\n",
      ">>> barometer calibration complete\n"
     ]
    }
   ],
   "source": [
    "vehicle.armed = True"
   ]
  },
  {
   "cell_type": "code",
   "execution_count": 63,
   "metadata": {
    "collapsed": false
   },
   "outputs": [],
   "source": [
    "vehicle.armed = False"
   ]
  },
  {
   "cell_type": "code",
   "execution_count": 8,
   "metadata": {
    "collapsed": false
   },
   "outputs": [
    {
     "name": "stdout",
     "output_type": "stream",
     "text": [
      "Arming motors\n",
      " Waiting for arming...\n"
     ]
    },
    {
     "name": "stderr",
     "output_type": "stream",
     "text": [
      ">>> Calibrating barometer\n",
      ">>> barometer calibration complete\n",
      ">>> Initialising APM...\n"
     ]
    },
    {
     "name": "stdout",
     "output_type": "stream",
     "text": [
      " Waiting for arming...\n"
     ]
    }
   ],
   "source": [
    "arm()"
   ]
  },
  {
   "cell_type": "code",
   "execution_count": 46,
   "metadata": {
    "collapsed": false
   },
   "outputs": [
    {
     "name": "stdout",
     "output_type": "stream",
     "text": [
      "Taking off!\n",
      "{'1': 900, '3': 900, '2': 900, '5': 900, '4': 900, '7': 900, '6': 900, '8': 900}\n"
     ]
    }
   ],
   "source": [
    "overrideCH3(900)"
   ]
  },
  {
   "cell_type": "code",
   "execution_count": 36,
   "metadata": {
    "collapsed": false
   },
   "outputs": [
    {
     "name": "stdout",
     "output_type": "stream",
     "text": [
      "Taking off!\n",
      "{'1': 900, '3': 900, '2': 900, '5': 900, '4': 900, '7': 900, '6': 900, '8': 900}\n"
     ]
    }
   ],
   "source": [
    "overrideCH3(None)"
   ]
  },
  {
   "cell_type": "code",
   "execution_count": 91,
   "metadata": {
    "collapsed": false
   },
   "outputs": [
    {
     "name": "stdout",
     "output_type": "stream",
     "text": [
      "Taking off!\n",
      "{'1': 900, '3': 1100, '2': 900, '5': 900, '4': 1500, '7': 900, '6': 900, '8': 900}\n"
     ]
    }
   ],
   "source": [
    "overrideCH4(None)"
   ]
  },
  {
   "cell_type": "code",
   "execution_count": 16,
   "metadata": {
    "collapsed": false
   },
   "outputs": [
    {
     "data": {
      "text/plain": [
       "False"
      ]
     },
     "execution_count": 16,
     "metadata": {},
     "output_type": "execute_result"
    }
   ],
   "source": [
    "vehicle.armed"
   ]
  },
  {
   "cell_type": "code",
   "execution_count": null,
   "metadata": {
    "collapsed": true
   },
   "outputs": [],
   "source": [
    "vehicle.channels.overrides['3']\n",
    "time.sleep(1)"
   ]
  },
  {
   "cell_type": "code",
   "execution_count": null,
   "metadata": {
    "collapsed": false
   },
   "outputs": [],
   "source": [
    "vehicle.channels.overrides['3'] = 1700\n",
    "time.sleep(1)"
   ]
  },
  {
   "cell_type": "code",
   "execution_count": 26,
   "metadata": {
    "collapsed": false
   },
   "outputs": [
    {
     "ename": "KeyError",
     "evalue": "'3'",
     "output_type": "error",
     "traceback": [
      "\u001b[1;31m---------------------------------------------------------------------------\u001b[0m",
      "\u001b[1;31mKeyError\u001b[0m                                  Traceback (most recent call last)",
      "\u001b[1;32m<ipython-input-26-c970aecdd614>\u001b[0m in \u001b[0;36m<module>\u001b[1;34m()\u001b[0m\n\u001b[1;32m----> 1\u001b[1;33m \u001b[1;32mdel\u001b[0m \u001b[0mvehicle\u001b[0m\u001b[1;33m.\u001b[0m\u001b[0mchannels\u001b[0m\u001b[1;33m.\u001b[0m\u001b[0moverrides\u001b[0m\u001b[1;33m[\u001b[0m\u001b[1;34m'3'\u001b[0m\u001b[1;33m]\u001b[0m\u001b[1;33m\u001b[0m\u001b[0m\n\u001b[0m",
      "\u001b[1;32mC:\\Users\\tmeta_000\\Anaconda2\\lib\\site-packages\\dronekit\\__init__.pyc\u001b[0m in \u001b[0;36m__delitem__\u001b[1;34m(self, key)\u001b[0m\n\u001b[0;32m    726\u001b[0m \u001b[1;33m\u001b[0m\u001b[0m\n\u001b[0;32m    727\u001b[0m     \u001b[1;32mdef\u001b[0m \u001b[0m__delitem__\u001b[0m\u001b[1;33m(\u001b[0m\u001b[0mself\u001b[0m\u001b[1;33m,\u001b[0m \u001b[0mkey\u001b[0m\u001b[1;33m)\u001b[0m\u001b[1;33m:\u001b[0m\u001b[1;33m\u001b[0m\u001b[0m\n\u001b[1;32m--> 728\u001b[1;33m         \u001b[0mdict\u001b[0m\u001b[1;33m.\u001b[0m\u001b[0m__delitem__\u001b[0m\u001b[1;33m(\u001b[0m\u001b[0mself\u001b[0m\u001b[1;33m,\u001b[0m \u001b[0mstr\u001b[0m\u001b[1;33m(\u001b[0m\u001b[0mkey\u001b[0m\u001b[1;33m)\u001b[0m\u001b[1;33m)\u001b[0m\u001b[1;33m\u001b[0m\u001b[0m\n\u001b[0m\u001b[0;32m    729\u001b[0m         \u001b[0mself\u001b[0m\u001b[1;33m.\u001b[0m\u001b[0m_send\u001b[0m\u001b[1;33m(\u001b[0m\u001b[1;33m)\u001b[0m\u001b[1;33m\u001b[0m\u001b[0m\n\u001b[0;32m    730\u001b[0m \u001b[1;33m\u001b[0m\u001b[0m\n",
      "\u001b[1;31mKeyError\u001b[0m: '3'"
     ]
    },
    {
     "name": "stderr",
     "output_type": "stream",
     "text": [
      ">>> Link timeout, no heartbeat in last 5 seconds\n",
      ">>> No heartbeat in 30 seconds, aborting.\n"
     ]
    }
   ],
   "source": [
    "del vehicle.channels.overrides['3']"
   ]
  },
  {
   "cell_type": "code",
   "execution_count": null,
   "metadata": {
    "collapsed": true
   },
   "outputs": [],
   "source": []
  },
  {
   "cell_type": "code",
   "execution_count": null,
   "metadata": {
    "collapsed": false
   },
   "outputs": [],
   "source": [
    "vehicle.armed"
   ]
  },
  {
   "cell_type": "code",
   "execution_count": null,
   "metadata": {
    "collapsed": false
   },
   "outputs": [],
   "source": [
    "vehicle.mode    = VehicleMode(\"GUIDED\")\n",
    "vehicle.armed   = True"
   ]
  }
 ],
 "metadata": {
  "kernelspec": {
   "display_name": "Python 2",
   "language": "python",
   "name": "python2"
  },
  "language_info": {
   "codemirror_mode": {
    "name": "ipython",
    "version": 2
   },
   "file_extension": ".py",
   "mimetype": "text/x-python",
   "name": "python",
   "nbconvert_exporter": "python",
   "pygments_lexer": "ipython2",
   "version": "2.7.11"
  }
 },
 "nbformat": 4,
 "nbformat_minor": 0
}
