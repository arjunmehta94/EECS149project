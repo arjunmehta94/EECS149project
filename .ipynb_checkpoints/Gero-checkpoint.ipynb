{
 "cells": [
  {
   "cell_type": "code",
   "execution_count": 4,
   "metadata": {
    "collapsed": true
   },
   "outputs": [],
   "source": [
    "from dronekit import connect, VehicleMode\n",
    "import time"
   ]
  },
  {
   "cell_type": "code",
   "execution_count": 5,
   "metadata": {
    "collapsed": false
   },
   "outputs": [
    {
     "name": "stderr",
     "output_type": "stream",
     "text": [
      ">>> ArduCopter V3.2.1 (36b405fb)\n",
      ">>> Frame: QUAD\n"
     ]
    }
   ],
   "source": [
    "vehicle = connect('com7', wait_ready=True, baud = 57600)"
   ]
  },
  {
   "cell_type": "code",
   "execution_count": 6,
   "metadata": {
    "collapsed": true
   },
   "outputs": [],
   "source": [
    "vehicle.mode = VehicleMode(\"ACRO\")"
   ]
  },
  {
   "cell_type": "code",
   "execution_count": 8,
   "metadata": {
    "collapsed": false
   },
   "outputs": [
    {
     "name": "stdout",
     "output_type": "stream",
     "text": [
      "ACRO\n",
      "False\n"
     ]
    }
   ],
   "source": [
    "print(vehicle.mode.name)\n",
    "print(vehicle.armed)"
   ]
  },
  {
   "cell_type": "code",
   "execution_count": 9,
   "metadata": {
    "collapsed": false
   },
   "outputs": [
    {
     "name": "stderr",
     "output_type": "stream",
     "text": [
      ">>> Calibrating barometer\n",
      ">>> barometer calibration complete\n",
      ">>> Initialising APM...\n"
     ]
    }
   ],
   "source": [
    "vehicle.armed = True"
   ]
  },
  {
   "cell_type": "code",
   "execution_count": 11,
   "metadata": {
    "collapsed": false
   },
   "outputs": [],
   "source": [
    "from ipywidgets import *\n",
    "from IPython.display import display\n",
    "\n",
    "ChanRelease = widgets.Button(description=\"Release Channels!\")\n",
    "display(ChanRelease)\n",
    "\n",
    "def f(yaw):\n",
    "    vehicle.channels.overrides['4'] = yaw\n",
    "    print(yaw)\n",
    "    \n",
    "def on_button_clicked(b):\n",
    "    vehicle.channels.overrides['1'] = ''\n",
    "    vehicle.channels.overrides['2'] = ''\n",
    "    vehicle.channels.overrides['3'] = ''\n",
    "    vehicle.channels.overrides['4'] = ''\n",
    "    print(\"Release Channels\")\n",
    "    \n",
    "ChanRelease.on_click(on_button_clicked)\n",
    "    \n"
   ]
  },
  {
   "cell_type": "code",
   "execution_count": 13,
   "metadata": {
    "collapsed": false
   },
   "outputs": [
    {
     "name": "stdout",
     "output_type": "stream",
     "text": [
      "1500\n"
     ]
    },
    {
     "data": {
      "text/plain": [
       "<function __main__.f>"
      ]
     },
     "execution_count": 13,
     "metadata": {},
     "output_type": "execute_result"
    },
    {
     "name": "stderr",
     "output_type": "stream",
     "text": [
      ">>> Link timeout, no heartbeat in last 5 seconds\n",
      ">>> No heartbeat in 30 seconds, aborting.\n"
     ]
    }
   ],
   "source": [
    "interact(f, yaw=(1400,1600,10))\n",
    "interact(f, yaw=(1400,1600,10))"
   ]
  },
  {
   "cell_type": "code",
   "execution_count": null,
   "metadata": {
    "collapsed": true
   },
   "outputs": [],
   "source": []
  }
 ],
 "metadata": {
  "kernelspec": {
   "display_name": "Python [default]",
   "language": "python",
   "name": "python2"
  },
  "language_info": {
   "codemirror_mode": {
    "name": "ipython",
    "version": 2
   },
   "file_extension": ".py",
   "mimetype": "text/x-python",
   "name": "python",
   "nbconvert_exporter": "python",
   "pygments_lexer": "ipython2",
   "version": "2.7.12"
  },
  "widgets": {
   "state": {
    "1058476948e1407680811e61c1f726cb": {
     "views": [
      {
       "cell_index": 5
      }
     ]
    },
    "2895c992f58f4106938b85a4fff0b9b1": {
     "views": [
      {
       "cell_index": 5
      }
     ]
    },
    "8198128cf70544b48e074fcf01b013de": {
     "views": [
      {
       "cell_index": 5
      }
     ]
    },
    "ba9d8a849d5f45dd91535fa8b7798170": {
     "views": [
      {
       "cell_index": 6
      }
     ]
    },
    "e8be064b9e464cc6a1b1df8ec8de5d3a": {
     "views": [
      {
       "cell_index": 6
      }
     ]
    }
   },
   "version": "1.2.0"
  }
 },
 "nbformat": 4,
 "nbformat_minor": 1
}
