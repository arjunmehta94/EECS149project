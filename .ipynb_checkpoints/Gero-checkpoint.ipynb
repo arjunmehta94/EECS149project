{
 "cells": [
  {
   "cell_type": "code",
   "execution_count": null,
   "metadata": {
    "collapsed": true
   },
   "outputs": [],
   "source": [
    "import numpy as np\n",
    "def body_to_inertial(roll, pitch, yaw):\n",
    "    roll_rad = np.deg2rad(roll)\n",
    "    pitch_rad = np.deg2rad(pitch)\n",
    "    yaw_rad = np.deg2rad(yaw)\n",
    "    \n",
    "    R = np.zeros((3,3))\n",
    "    R[0,0] = cos()\n",
    "    \n",
    "body_to_inertial(0,0,0)"
   ]
  },
  {
   "cell_type": "code",
   "execution_count": 9,
   "metadata": {
    "collapsed": false
   },
   "outputs": [
    {
     "data": {
      "text/plain": [
       "1.0"
      ]
     },
     "execution_count": 9,
     "metadata": {},
     "output_type": "execute_result"
    }
   ],
   "source": [
    "import numpy as np\n",
    "np.sin(np.deg2rad(90))\n"
   ]
  },
  {
   "cell_type": "code",
   "execution_count": 15,
   "metadata": {
    "collapsed": false
   },
   "outputs": [
    {
     "data": {
      "text/plain": [
       "1.0"
      ]
     },
     "execution_count": 15,
     "metadata": {},
     "output_type": "execute_result"
    }
   ],
   "source": [
    "R = np.zeros((3,3))\n",
    "R[0,0]"
   ]
  },
  {
   "cell_type": "code",
   "execution_count": 1,
   "metadata": {
    "collapsed": false
   },
   "outputs": [],
   "source": [
    "from dronekit import Vehicle\n",
    "\n",
    "\n",
    "class RawIMU(object):\n",
    "    def __init__(self, xacc=None, yacc=None, zacc=None):\n",
    "        self.xacc = xacc\n",
    "        self.yacc = yacc\n",
    "        self.zacc = zacc     \n",
    "        \n",
    "    def __str__(self):\n",
    "        return \"RAW_IMU: xacc={},yacc={},zacc={}\".format(self.xacc, self.yacc,self.zacc)\n",
    "\n",
    "   \n",
    "class MyVehicle(Vehicle):\n",
    "    def __init__(self, *args):\n",
    "        super(MyVehicle, self).__init__(*args)\n",
    "\n",
    "        # Create an Vehicle.raw_imu object with initial values set to None.\n",
    "        self._raw_imu = RawIMU()\n",
    "\n",
    "        # Create a message listener using the decorator.   \n",
    "        @self.on_message('RAW_IMU')\n",
    "        def listener(self, name, message):\n",
    "            \"\"\"\n",
    "            The listener is called for messages that contain the string specified in the decorator,\n",
    "            passing the vehicle, message name, and the message.\n",
    "            \n",
    "            The listener writes the message to the (newly attached) ``vehicle.raw_imu`` object \n",
    "            and notifies observers.\n",
    "            \"\"\"\n",
    "            self._raw_imu.xacc=message.xacc\n",
    "            self._raw_imu.yacc=message.yacc\n",
    "            self._raw_imu.zacc=message.zacc\n",
    "            \n",
    "            # Notify all observers of new message (with new value)\n",
    "            #   Note that argument `cache=False` by default so listeners\n",
    "            #   are updated with every new message\n",
    "            self.notify_attribute_listeners('scaled_imu', self._raw_imu) \n",
    "\n",
    "    @property\n",
    "    def raw_imu(self):\n",
    "        return self._raw_imu\n",
    "\n",
    "class RollPitchYaw(object):\n",
    "    def __init__(self):\n",
    "        self.roll = 0\n",
    "        self.pitch = 0\n",
    "        self.yaw = 0\n",
    "    \n",
    "    def __str__(self):\n",
    "        return ' | '.join([self.roll, self.pitch, self.yaw])\n",
    "\n",
    "    def __repr__(self):\n",
    "        return ' | '.join([self.roll, self.pitch, self.yaw])\n"
   ]
  },
  {
   "cell_type": "code",
   "execution_count": 2,
   "metadata": {
    "collapsed": false
   },
   "outputs": [],
   "source": [
    "from dronekit import connect, VehicleMode\n",
    "import time"
   ]
  },
  {
   "cell_type": "code",
   "execution_count": 3,
   "metadata": {
    "collapsed": false
   },
   "outputs": [
    {
     "name": "stderr",
     "output_type": "stream",
     "text": [
      ">>> ArduCopter V3.2.1 (36b405fb)\n",
      ">>> Frame: QUAD\n",
      ">>> Calibrating barometer\n",
      ">>> barometer calibration complete\n",
      ">>> Initialising APM...\n"
     ]
    }
   ],
   "source": [
    "vehicle = connect('com3', wait_ready=True, baud = 57600, vehicle_class=MyVehicle)"
   ]
  },
  {
   "cell_type": "code",
   "execution_count": 5,
   "metadata": {
    "collapsed": false
   },
   "outputs": [
    {
     "name": "stderr",
     "output_type": "stream",
     "text": [
      ">>> GROUND START\n",
      ">>> Initialising APM...\n",
      ">>> Calibrating barometer\n",
      ">>> barometer calibration complete\n"
     ]
    }
   ],
   "source": [
    "vehicle.mode = VehicleMode(\"STABILIZE\")\n",
    "rollpitchyaw = RollPitchYaw()"
   ]
  },
  {
   "cell_type": "code",
   "execution_count": 8,
   "metadata": {
    "collapsed": false
   },
   "outputs": [
    {
     "name": "stdout",
     "output_type": "stream",
     "text": [
      "STABILIZE\n",
      "True\n"
     ]
    }
   ],
   "source": [
    "print(vehicle.mode.name)\n",
    "print(vehicle.armed)"
   ]
  },
  {
   "cell_type": "code",
   "execution_count": 12,
   "metadata": {
    "collapsed": false
   },
   "outputs": [
    {
     "name": "stderr",
     "output_type": "stream",
     "text": [
      ">>> Calibrating barometer\n",
      ">>> barometer calibration complete\n",
      ">>> Initialising APM...\n"
     ]
    }
   ],
   "source": [
    "vehicle.armed = True"
   ]
  },
  {
   "cell_type": "code",
   "execution_count": 9,
   "metadata": {
    "collapsed": false
   },
   "outputs": [],
   "source": [
    "vehicle.channels.overrides['2'] = 1492"
   ]
  },
  {
   "cell_type": "code",
   "execution_count": null,
   "metadata": {
    "collapsed": false
   },
   "outputs": [],
   "source": [
    "vehicle.channels.overrides = {}"
   ]
  },
  {
   "cell_type": "code",
   "execution_count": 27,
   "metadata": {
    "collapsed": false
   },
   "outputs": [],
   "source": [
    "from ipywidgets import *\n",
    "from IPython.display import display\n",
    "\n",
    "ChanRelease = widgets.Button(description=\"Release Channels!\")\n",
    "display(ChanRelease)\n",
    "\n",
    "def r(roll):\n",
    "    vehicle.channels.overrides['1'] = roll\n",
    "    \n",
    "def p(pitch):\n",
    "    vehicle.channels.overrides['2'] = pitch\n",
    "    \n",
    "def t(throttle):\n",
    "    vehicle.channels.overrides['3'] = throttle\n",
    "    \n",
    "def y(yaw):\n",
    "    vehicle.channels.overrides['4'] = yaw\n",
    "    \n",
    "def on_button_clicked(b):\n",
    "    vehicle.channels.overrides = {}  #clears all channel overrides\n",
    "    print(\"Release Channels\")\n",
    "    \n",
    "ChanRelease.on_click(on_button_clicked)\n",
    "    \n"
   ]
  },
  {
   "cell_type": "code",
   "execution_count": 28,
   "metadata": {
    "collapsed": false
   },
   "outputs": [],
   "source": [
    "interact(r, roll=(1400,1600,10))\n",
    "interact(p, pitch=(1400,1600,10))\n",
    "interact(t, throttle=(1200,1700,10))\n",
    "interact(y, yaw=(1400,1600,10))"
   ]
  },
  {
   "cell_type": "code",
   "execution_count": 38,
   "metadata": {
    "collapsed": false
   },
   "outputs": [],
   "source": [
    "vehicle.armed = False"
   ]
  },
  {
   "cell_type": "code",
   "execution_count": 7,
   "metadata": {
    "collapsed": false
   },
   "outputs": [],
   "source": [
    "vehicle.close()"
   ]
  },
  {
   "cell_type": "code",
   "execution_count": 28,
   "metadata": {
    "collapsed": false,
    "scrolled": true
   },
   "outputs": [],
   "source": [
    "from dronekit import Vehicle\n",
    "class TestIMU():\n",
    "    def __init__(self, vehicle):\n",
    "        self.vehicle = vehicle\n",
    "        self.x = None\n",
    "        self.y = None\n",
    "        self.z = None\n",
    "        \n",
    "    @vehicle.on_message('SCALED_IMU')\n",
    "    def get_message(self, name, message):\n",
    "        self.x = message.xacc\n",
    "        self.y = message.yacc\n",
    "        self.z = message.zacc\n",
    "        \n",
    "test_imu = TestIMU(vehicle)\n",
    "    \n"
   ]
  },
  {
   "cell_type": "code",
   "execution_count": 50,
   "metadata": {
    "collapsed": false
   },
   "outputs": [
    {
     "name": "stdout",
     "output_type": "stream",
     "text": [
      "None None None\n"
     ]
    },
    {
     "name": "stderr",
     "output_type": "stream",
     "text": [
      ">>> Link timeout, no heartbeat in last 5 seconds\n",
      ">>> No heartbeat in 30 seconds, aborting.\n"
     ]
    }
   ],
   "source": [
    "print test_imu.x, test_imu.y, test_imu.z"
   ]
  },
  {
   "cell_type": "code",
   "execution_count": 166,
   "metadata": {
    "collapsed": false
   },
   "outputs": [
    {
     "data": {
      "text/plain": [
       "0.0"
      ]
     },
     "execution_count": 166,
     "metadata": {},
     "output_type": "execute_result"
    }
   ],
   "source": [
    "vehicle._vz"
   ]
  },
  {
   "cell_type": "code",
   "execution_count": 13,
   "metadata": {
    "collapsed": false
   },
   "outputs": [],
   "source": [
    "def scaled_imu(self, attr_name, value):\n",
    "    print value\n",
    "\n",
    "def attitude_callback(self, attr_name, value):\n",
    "    global rollpitchyaw\n",
    "    rollpitchyaw.roll = value.roll\n",
    "    rollpitchyaw.pitch = value.pitch\n",
    "    rollpitchyaw.yaw = value.yaw\n",
    "   # print \"PWM: \" + str(self.channels.overrides['1'])\n",
    "\n",
    "#vehicle.add_attribute_listener('scaled_imu', scaled_imu)\n",
    "    vehicle.add_attribute_listener('attitude', attitude_callback)"
   ]
  },
  {
   "cell_type": "code",
   "execution_count": null,
   "metadata": {
    "collapsed": false
   },
   "outputs": [
    {
     "name": "stdout",
     "output_type": "stream",
     "text": [
      "1502\n",
      "1502\n",
      "1502\n",
      "1502\n",
      "1502\n",
      "1502\n",
      "1502\n",
      "1502\n",
      "1501\n",
      "1501\n",
      "1501\n",
      "1501\n",
      "1501\n",
      "1501\n",
      "1501\n",
      "1501\n",
      "1501\n",
      "1501\n",
      "1501\n",
      "1501\n",
      "1501\n",
      "1503\n",
      "1503\n",
      "1501\n",
      "1501\n",
      "1501\n",
      "1501\n",
      "1502\n",
      "1502\n",
      "1502\n",
      "1502\n",
      "1502\n",
      "1502\n",
      "1502\n",
      "1502\n",
      "1502\n",
      "1502\n",
      "1502\n",
      "1502\n",
      "1502\n",
      "1502\n",
      "1502\n",
      "1502\n",
      "1502\n",
      "1502\n",
      "1502\n",
      "1502\n",
      "1527\n",
      "1527\n",
      "1560\n",
      "1560\n",
      "1613\n",
      "1613\n",
      "1613\n",
      "1501\n",
      "1501\n",
      "1567\n",
      "1567\n",
      "1615\n",
      "1615\n",
      "1615\n",
      "1592\n",
      "1592\n",
      "1592\n",
      "1592\n",
      "1594\n",
      "1594\n",
      "1594\n",
      "1594\n",
      "1594\n",
      "1594\n",
      "1593\n",
      "1593\n",
      "1593\n",
      "1594\n",
      "1594\n",
      "1594\n",
      "1592\n",
      "1592\n",
      "1592\n",
      "1592\n",
      "1592\n",
      "1594\n",
      "1594\n",
      "1594\n",
      "1593\n",
      "1593\n",
      "1593\n",
      "1593\n",
      "1593\n",
      "1588\n",
      "1588\n",
      "1594\n",
      "1594\n",
      "1594\n",
      "1594\n",
      "1594\n",
      "1594\n",
      "1594\n",
      "1600\n",
      "1600\n",
      "1600\n",
      "1600\n",
      "1597\n",
      "1597\n",
      "1602\n",
      "1602\n",
      "1602\n",
      "1602\n",
      "1605\n",
      "1502\n",
      "1502\n",
      "1502\n",
      "1502\n",
      "1502\n",
      "1502\n",
      "1502\n",
      "1502\n",
      "1503\n",
      "1503\n",
      "1503\n",
      "1503\n",
      "1001\n",
      "1001\n",
      "1001\n",
      "1001\n",
      "1001\n",
      "992\n",
      "992\n",
      "992\n",
      "992\n",
      "992\n",
      "992\n",
      "992\n",
      "992\n",
      "993\n",
      "993\n",
      "993\n",
      "993\n",
      "993\n",
      "993\n",
      "993\n",
      "993\n",
      "993\n",
      "993\n",
      "1725\n",
      "1725\n",
      "1499\n",
      "1499\n",
      "1500\n",
      "1500\n",
      "1500\n",
      "1500\n",
      "1500\n",
      "1499\n",
      "1499\n",
      "1499\n",
      "1499\n",
      "1501\n",
      "1500\n",
      "1500\n",
      "1500\n",
      "1500\n",
      "1499\n",
      "1499\n",
      "1499\n",
      "1499\n",
      "1498\n",
      "1498\n",
      "1498\n",
      "1498\n",
      "1499\n",
      "1499\n",
      "1500\n",
      "1500\n",
      "1498\n",
      "1498\n",
      "1498\n",
      "1497\n",
      "1497\n",
      "1497\n",
      "1497\n",
      "1497\n",
      "1497\n",
      "1497\n",
      "1497\n",
      "1497\n",
      "1497\n",
      "1497\n",
      "1497\n",
      "1497\n",
      "1497\n",
      "1497\n",
      "1497\n",
      "1497\n",
      "1497\n",
      "1497\n",
      "1497\n",
      "1497\n",
      "1497\n",
      "1497\n",
      "1497\n",
      "1497\n",
      "1497\n",
      "1497\n",
      "1497\n",
      "1497\n",
      "1497\n",
      "1497\n",
      "1497\n",
      "1497\n",
      "1497\n",
      "1497\n",
      "1497\n",
      "1497\n",
      "1497\n",
      "1497\n",
      "1496\n",
      "1496\n",
      "1496\n"
     ]
    }
   ],
   "source": [
    "import time\n",
    "while True:\n",
    "    print str(vehicle.channels['4'])\n",
    "    time.sleep(0.1)"
   ]
  },
  {
   "cell_type": "code",
   "execution_count": 6,
   "metadata": {
    "collapsed": false
   },
   "outputs": [
    {
     "name": "stdout",
     "output_type": "stream",
     "text": [
      "0.0 1493\n",
      "0.0 1493\n",
      "0.0 1493\n",
      "0.0 1493\n",
      "0.0 1493\n",
      "0.0 1493\n",
      "0.0 1495\n",
      "0.0 1495\n",
      "0.0 1492\n",
      "0.0 1492\n",
      "0.0 1492\n",
      "0.0 1492\n",
      "0.0 1496\n",
      "0.0 1496\n",
      "0.0 1496\n",
      "0.0 1496\n",
      "0.0 1494\n",
      "0.0 1494\n",
      "0.0 1494\n",
      "0.0 1491\n",
      "0.0 1491\n",
      "0.0 1491\n",
      "0.0 1491\n",
      "0.0 1491\n",
      "0.0 1491\n",
      "0.0 1493\n",
      "0.0 1493\n",
      "0.0 1493\n",
      "0.0 1492\n",
      "0.0 1492\n",
      "0.0 1492\n",
      "0.0 1492\n",
      "0.0 1494\n",
      "0.0 1494\n",
      "0.0 1494\n",
      "0.0 1494\n",
      "0.0 1494\n",
      "0.0 1492\n",
      "0.0 1492\n",
      "0.0 1492\n",
      "0.0 1492\n",
      "0.0 1492\n",
      "0.0 1492\n",
      "0.0 1492\n",
      "0.0 1492\n",
      "0.0 1492\n",
      "0.0 1492\n",
      "0.0 1492\n",
      "0.0 1492\n",
      "0.0 1492\n",
      "0.0 1492\n",
      "0.0 1492\n",
      "0.0 1492\n",
      "0.0 1492\n",
      "0.0 1492\n",
      "0.0 1492\n",
      "0.0 1492\n",
      "0.0 1492\n",
      "0.0 1492\n",
      "0.0 1492\n",
      "0.0 1492\n",
      "0.0 1492\n",
      "0.0 1492\n",
      "0.0 1492\n",
      "0.0 1492\n",
      "0.0 1492\n",
      "0.0 1492\n",
      "0.0 1493\n",
      "0.0 1493\n",
      "0.0 1496\n",
      "0.0 1496\n",
      "0.0 1496\n",
      "0.0 1495\n",
      "0.0 1495\n",
      "0.0 1495\n",
      "0.0 1495\n",
      "0.0 1495\n",
      "0.0 1496\n",
      "0.0 1496\n",
      "0.0 1496\n",
      "0.0 1496\n",
      "0.0 1496\n",
      "0.0 1496\n",
      "0.0 1496\n",
      "0.0 1496\n",
      "0.0 1496\n",
      "0.0 1496\n",
      "0.0 1496\n",
      "0.0 1495\n",
      "0.0 1495\n",
      "0.0 1495\n",
      "0.0 1495\n",
      "0.0 1495\n",
      "0.0 1496\n",
      "0.0 1496\n",
      "0.0 1496\n",
      "0.0 1496\n",
      "0.0 1496\n",
      "0.0 1495\n",
      "0.0 1495\n",
      "0.0 1495\n",
      "0.0 1495\n",
      "0.0 1495\n",
      "0.0 1495\n",
      "0.0 1495\n",
      "0.0 1495\n",
      "0.0 1495"
     ]
    },
    {
     "ename": "ValueError",
     "evalue": "I/O operation on closed file",
     "output_type": "error",
     "traceback": [
      "\u001b[1;31m---------------------------------------------------------------------------\u001b[0m",
      "\u001b[1;31mValueError\u001b[0m                                Traceback (most recent call last)",
      "\u001b[1;32m<ipython-input-6-4145b0ac6df4>\u001b[0m in \u001b[0;36m<module>\u001b[1;34m()\u001b[0m\n\u001b[0;32m      1\u001b[0m \u001b[1;32mimport\u001b[0m \u001b[0mtime\u001b[0m\u001b[1;33m\u001b[0m\u001b[0m\n\u001b[0;32m      2\u001b[0m \u001b[1;32mwhile\u001b[0m \u001b[0mTrue\u001b[0m\u001b[1;33m:\u001b[0m\u001b[1;33m\u001b[0m\u001b[0m\n\u001b[1;32m----> 3\u001b[1;33m     \u001b[1;32mprint\u001b[0m \u001b[0mstr\u001b[0m\u001b[1;33m(\u001b[0m\u001b[0mrollpitchyaw\u001b[0m\u001b[1;33m.\u001b[0m\u001b[0mroll\u001b[0m \u001b[1;33m*\u001b[0m \u001b[1;36m57.2958\u001b[0m\u001b[1;33m)\u001b[0m \u001b[1;33m+\u001b[0m \u001b[1;34m' '\u001b[0m \u001b[1;33m+\u001b[0m \u001b[0mstr\u001b[0m\u001b[1;33m(\u001b[0m\u001b[0mvehicle\u001b[0m\u001b[1;33m.\u001b[0m\u001b[0mchannels\u001b[0m\u001b[1;33m[\u001b[0m\u001b[1;34m'1'\u001b[0m\u001b[1;33m]\u001b[0m\u001b[1;33m)\u001b[0m\u001b[1;33m\u001b[0m\u001b[0m\n\u001b[0m\u001b[0;32m      4\u001b[0m     \u001b[0mtime\u001b[0m\u001b[1;33m.\u001b[0m\u001b[0msleep\u001b[0m\u001b[1;33m(\u001b[0m\u001b[1;36m0.1\u001b[0m\u001b[1;33m)\u001b[0m\u001b[1;33m\u001b[0m\u001b[0m\n",
      "\u001b[1;32mC:\\Users\\tmeta_000\\Anaconda2\\lib\\site-packages\\ipykernel\\iostream.pyc\u001b[0m in \u001b[0;36mwrite\u001b[1;34m(self, string)\u001b[0m\n\u001b[0;32m    315\u001b[0m \u001b[1;33m\u001b[0m\u001b[0m\n\u001b[0;32m    316\u001b[0m             \u001b[0mis_child\u001b[0m \u001b[1;33m=\u001b[0m \u001b[1;33m(\u001b[0m\u001b[1;32mnot\u001b[0m \u001b[0mself\u001b[0m\u001b[1;33m.\u001b[0m\u001b[0m_is_master_process\u001b[0m\u001b[1;33m(\u001b[0m\u001b[1;33m)\u001b[0m\u001b[1;33m)\u001b[0m\u001b[1;33m\u001b[0m\u001b[0m\n\u001b[1;32m--> 317\u001b[1;33m             \u001b[0mself\u001b[0m\u001b[1;33m.\u001b[0m\u001b[0m_buffer\u001b[0m\u001b[1;33m.\u001b[0m\u001b[0mwrite\u001b[0m\u001b[1;33m(\u001b[0m\u001b[0mstring\u001b[0m\u001b[1;33m)\u001b[0m\u001b[1;33m\u001b[0m\u001b[0m\n\u001b[0m\u001b[0;32m    318\u001b[0m             \u001b[1;32mif\u001b[0m \u001b[0mis_child\u001b[0m\u001b[1;33m:\u001b[0m\u001b[1;33m\u001b[0m\u001b[0m\n\u001b[0;32m    319\u001b[0m                 \u001b[1;31m# newlines imply flush in subprocesses\u001b[0m\u001b[1;33m\u001b[0m\u001b[1;33m\u001b[0m\u001b[0m\n",
      "\u001b[1;31mValueError\u001b[0m: I/O operation on closed file"
     ]
    },
    {
     "name": "stderr",
     "output_type": "stream",
     "text": [
      ">>> Calibrating barometer\n",
      ">>> barometer calibration complete\n",
      ">>> Initialising APM...\n"
     ]
    }
   ],
   "source": [
    "import time\n",
    "while True:\n",
    "    print str(rollpitchyaw.roll * 57.2958) + ' ' + str(vehicle.channels['1'])\n",
    "    time.sleep(0.1)"
   ]
  },
  {
   "cell_type": "code",
   "execution_count": 11,
   "metadata": {
    "collapsed": false
   },
   "outputs": [
    {
     "name": "stdout",
     "output_type": "stream",
     "text": [
      " RAW_IMU: xacc=9,yacc=-12,zacc=-1011\n"
     ]
    }
   ],
   "source": [
    "print vehicle.raw_imu"
   ]
  },
  {
   "cell_type": "code",
   "execution_count": null,
   "metadata": {
    "collapsed": true
   },
   "outputs": [],
   "source": [
    "vehicle.parameters.iteritems."
   ]
  }
 ],
 "metadata": {
  "anaconda-cloud": {},
  "kernelspec": {
   "display_name": "Python 2",
   "language": "python",
   "name": "python2"
  },
  "language_info": {
   "codemirror_mode": {
    "name": "ipython",
    "version": 2
   },
   "file_extension": ".py",
   "mimetype": "text/x-python",
   "name": "python",
   "nbconvert_exporter": "python",
   "pygments_lexer": "ipython2",
   "version": "2.7.12"
  }
 },
 "nbformat": 4,
 "nbformat_minor": 1
}
