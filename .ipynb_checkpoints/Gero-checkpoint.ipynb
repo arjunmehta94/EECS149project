{
 "cells": [
  {
   "cell_type": "code",
   "execution_count": 1,
   "metadata": {
    "collapsed": false
   },
   "outputs": [],
   "source": [
    "from dronekit import Vehicle\n",
    "\n",
    "\n",
    "class RawIMU(object):\n",
    "    def __init__(self, xacc=None, yacc=None, zacc=None):\n",
    "        self.xacc = xacc\n",
    "        self.yacc = yacc\n",
    "        self.zacc = zacc     \n",
    "        \n",
    "    def __str__(self):\n",
    "        return \"RAW_IMU: xacc={},yacc={},zacc={}\".format(self.xacc, self.yacc,self.zacc)\n",
    "\n",
    "   \n",
    "class MyVehicle(Vehicle):\n",
    "    def __init__(self, *args):\n",
    "        super(MyVehicle, self).__init__(*args)\n",
    "\n",
    "        # Create an Vehicle.raw_imu object with initial values set to None.\n",
    "        self._raw_imu = RawIMU()\n",
    "\n",
    "        # Create a message listener using the decorator.   \n",
    "        @self.on_message('RAW_IMU')\n",
    "        def listener(self, name, message):\n",
    "            \"\"\"\n",
    "            The listener is called for messages that contain the string specified in the decorator,\n",
    "            passing the vehicle, message name, and the message.\n",
    "            \n",
    "            The listener writes the message to the (newly attached) ``vehicle.raw_imu`` object \n",
    "            and notifies observers.\n",
    "            \"\"\"\n",
    "            self._raw_imu.xacc=message.xacc\n",
    "            self._raw_imu.yacc=message.yacc\n",
    "            self._raw_imu.zacc=message.zacc\n",
    "            \n",
    "            # Notify all observers of new message (with new value)\n",
    "            #   Note that argument `cache=False` by default so listeners\n",
    "            #   are updated with every new message\n",
    "            self.notify_attribute_listeners('scaled_imu', self._raw_imu) \n",
    "\n",
    "    @property\n",
    "    def raw_imu(self):\n",
    "        return self._raw_imu\n",
    "\n",
    "class RollPitchYaw(object):\n",
    "    def __init__(self):\n",
    "        self.roll = 0\n",
    "        self.pitch = 0\n",
    "        self.yaw = 0\n",
    "    \n",
    "    def __str__(self):\n",
    "        return ' | '.join([self.roll, self.pitch, self.yaw])\n",
    "\n",
    "    def __repr__(self):\n",
    "        return ' | '.join([self.roll, self.pitch, self.yaw])\n"
   ]
  },
  {
   "cell_type": "code",
   "execution_count": 2,
   "metadata": {
    "collapsed": false
   },
   "outputs": [],
   "source": [
    "from dronekit import connect, VehicleMode\n",
    "import time"
   ]
  },
  {
   "cell_type": "code",
   "execution_count": 3,
   "metadata": {
    "collapsed": false
   },
   "outputs": [
    {
     "name": "stderr",
     "output_type": "stream",
     "text": [
      ">>> ArduCopter V3.2.1 (36b405fb)\n",
      ">>> Frame: QUAD\n"
     ]
    }
   ],
   "source": [
    "vehicle = connect('com3', wait_ready=True, baud = 57600, vehicle_class=MyVehicle)"
   ]
  },
  {
   "cell_type": "code",
   "execution_count": 4,
   "metadata": {
    "collapsed": true
   },
   "outputs": [],
   "source": [
    "vehicle.mode = VehicleMode(\"STABILIZE\")\n",
    "rollpitchyaw = RollPitchYaw()"
   ]
  },
  {
   "cell_type": "code",
   "execution_count": 5,
   "metadata": {
    "collapsed": false
   },
   "outputs": [
    {
     "name": "stdout",
     "output_type": "stream",
     "text": [
      "STABILIZE\n",
      "False\n"
     ]
    }
   ],
   "source": [
    "print(vehicle.mode.name)\n",
    "print(vehicle.armed)"
   ]
  },
  {
   "cell_type": "code",
   "execution_count": 6,
   "metadata": {
    "collapsed": false
   },
   "outputs": [
    {
     "name": "stderr",
     "output_type": "stream",
     "text": [
      ">>> GROUND START\n",
      ">>> Initialising APM...\n",
      ">>> Calibrating barometer\n",
      ">>> barometer calibration complete\n"
     ]
    }
   ],
   "source": [
    "vehicle.armed = True"
   ]
  },
  {
   "cell_type": "code",
   "execution_count": 27,
   "metadata": {
    "collapsed": false
   },
   "outputs": [],
   "source": [
    "from ipywidgets import *\n",
    "from IPython.display import display\n",
    "\n",
    "ChanRelease = widgets.Button(description=\"Release Channels!\")\n",
    "display(ChanRelease)\n",
    "\n",
    "def r(roll):\n",
    "    vehicle.channels.overrides['1'] = roll\n",
    "    \n",
    "def p(pitch):\n",
    "    vehicle.channels.overrides['2'] = pitch\n",
    "    \n",
    "def t(throttle):\n",
    "    vehicle.channels.overrides['3'] = throttle\n",
    "    \n",
    "def y(yaw):\n",
    "    vehicle.channels.overrides['4'] = yaw\n",
    "    \n",
    "def on_button_clicked(b):\n",
    "    vehicle.channels.overrides = {}  #clears all channel overrides\n",
    "    print(\"Release Channels\")\n",
    "    \n",
    "ChanRelease.on_click(on_button_clicked)\n",
    "    \n"
   ]
  },
  {
   "cell_type": "code",
   "execution_count": 28,
   "metadata": {
    "collapsed": false
   },
   "outputs": [],
   "source": [
    "interact(r, roll=(1400,1600,10))\n",
    "interact(p, pitch=(1400,1600,10))\n",
    "interact(t, throttle=(1200,1700,10))\n",
    "interact(y, yaw=(1400,1600,10))"
   ]
  },
  {
   "cell_type": "code",
   "execution_count": 38,
   "metadata": {
    "collapsed": false
   },
   "outputs": [],
   "source": [
    "vehicle.armed = False"
   ]
  },
  {
   "cell_type": "code",
   "execution_count": 39,
   "metadata": {
    "collapsed": false
   },
   "outputs": [],
   "source": [
    "vehicle.close()"
   ]
  },
  {
   "cell_type": "code",
   "execution_count": 28,
   "metadata": {
    "collapsed": false,
    "scrolled": true
   },
   "outputs": [],
   "source": [
    "from dronekit import Vehicle\n",
    "class TestIMU():\n",
    "    def __init__(self, vehicle):\n",
    "        self.vehicle = vehicle\n",
    "        self.x = None\n",
    "        self.y = None\n",
    "        self.z = None\n",
    "        \n",
    "    @vehicle.on_message('SCALED_IMU')\n",
    "    def get_message(self, name, message):\n",
    "        self.x = message.xacc\n",
    "        self.y = message.yacc\n",
    "        self.z = message.zacc\n",
    "        \n",
    "test_imu = TestIMU(vehicle)\n",
    "    \n"
   ]
  },
  {
   "cell_type": "code",
   "execution_count": 50,
   "metadata": {
    "collapsed": false
   },
   "outputs": [
    {
     "name": "stdout",
     "output_type": "stream",
     "text": [
      "None None None\n"
     ]
    },
    {
     "name": "stderr",
     "output_type": "stream",
     "text": [
      ">>> Link timeout, no heartbeat in last 5 seconds\n",
      ">>> No heartbeat in 30 seconds, aborting.\n"
     ]
    }
   ],
   "source": [
    "print test_imu.x, test_imu.y, test_imu.z"
   ]
  },
  {
   "cell_type": "code",
   "execution_count": 166,
   "metadata": {
    "collapsed": false
   },
   "outputs": [
    {
     "data": {
      "text/plain": [
       "0.0"
      ]
     },
     "execution_count": 166,
     "metadata": {},
     "output_type": "execute_result"
    }
   ],
   "source": [
    "vehicle._vz"
   ]
  },
  {
   "cell_type": "code",
   "execution_count": 7,
   "metadata": {
    "collapsed": false
   },
   "outputs": [],
   "source": [
    "def scaled_imu(self, attr_name, value):\n",
    "    print value\n",
    "\n",
    "def attitude_callback(self, attr_name, value):\n",
    "    global rollpitchyaw\n",
    "    rollpitchyaw.roll = value.roll\n",
    "    rollpitchyaw.pitch = value.pitch\n",
    "    rollpitchyaw.yaw = value.yaw\n",
    "   # print \"PWM: \" + str(self.channels.overrides['1'])\n",
    "\n",
    "#vehicle.add_attribute_listener('scaled_imu', scaled_imu)\n",
    "vehicle.add_attribute_listener('attitude', attitude_callback)"
   ]
  },
  {
   "cell_type": "code",
   "execution_count": 14,
   "metadata": {
    "collapsed": false
   },
   "outputs": [
    {
     "name": "stdout",
     "output_type": "stream",
     "text": [
      "-0.353675097227 1487\n",
      "-0.353675097227 1487\n",
      "-0.281288802624 1488\n",
      "-0.281288802624 1488\n",
      "-0.281288802624 1488\n",
      "-0.462495416403 1487\n",
      "-0.462495416403 1487\n",
      "-0.462495416403 1487\n",
      "-0.462495416403 1488\n",
      "-0.462495416403 1488\n",
      "-0.559988617897 1488\n",
      "-0.559988617897 1488\n",
      "-0.558764636517 1488\n",
      "-0.558764636517 1488\n",
      "-0.558764636517 1488\n",
      "-0.558764636517 1488\n",
      "-0.572135388851 1488\n",
      "-0.572135388851 1488\n",
      "-0.572135388851 1488\n",
      "-0.573739886284 1488\n",
      "-0.574442028999 1488\n",
      "-0.574442028999 1488\n",
      "-0.574442028999 1488\n",
      "-0.574442028999 1488\n",
      "-0.574442028999 1488\n",
      "-0.567613601685 1488\n",
      "-0.577108740807 1488\n",
      "-0.577108740807 1488\n",
      "-0.574636101723 1487\n",
      "-0.574636101723 1487\n",
      "-0.574636101723 1487\n",
      "-0.574636101723 1487\n",
      "-0.572526335716 1488\n",
      "-0.572526335716 1488\n",
      "-0.572526335716 1488\n",
      "-0.572489142418 1488\n",
      "-0.572489142418 1488\n",
      "-0.572489142418 1488\n",
      "-0.574583411217 1488\n",
      "-0.574583411217 1488\n",
      "-0.574583411217 1488\n",
      "-0.576704204082 1488\n",
      "-0.576704204082 1488\n",
      "-0.575806379318 1488\n",
      "-0.575806379318 1488\n",
      "-0.575806379318 1488\n",
      "-0.575806379318 1488\n",
      "-0.574985861778 1488\n",
      "-0.574985861778 1488\n",
      "-0.574985861778 1488\n",
      "-0.574985861778 1488\n",
      "-0.574985861778 1488\n",
      "-0.574985861778 1487\n",
      "-0.575623393059 1487\n",
      "-0.575623393059 1487\n",
      "-0.575988590717 1488\n",
      "-0.575988590717 1488\n",
      "-0.575988590717 1488\n",
      "-0.574720263481 1488\n",
      "-0.574720263481 1488\n",
      "-0.574720263481 1488\n",
      "-0.574044942856 1488\n",
      "-0.574044942856 1488\n",
      "-0.574044942856 1488\n",
      "-0.574044942856 1488\n",
      "-0.574044942856 1488\n",
      "-0.579244732857 1488\n",
      "-0.577861428261 1488\n",
      "-0.577861428261 1488\n",
      "-0.577861428261 1488\n",
      "-0.577861428261 1488\n",
      "-0.56857997179 1487\n",
      "-0.56857997179 1488\n",
      "-0.574646830559 1488\n",
      "-0.574646830559 1488\n",
      "-0.574646830559 1488\n",
      "-0.574646830559 1488\n",
      "-0.574646830559 1488\n",
      "-0.574957966805 1488\n",
      "-0.574957966805 1488\n",
      "-0.574957966805 1488\n",
      "-0.574957966805 1488\n",
      "-0.574957966805 1488\n",
      "-0.56918245554 1488\n",
      "-0.56918245554 1488\n",
      "-0.569501638412 1488\n",
      "-0.569501638412 1488\n",
      "-0.500344574451 1488\n",
      "-0.500344574451 1488\n",
      "-0.500344574451 1488\n",
      "-0.106378093362 1488\n",
      "-0.106378093362 1488\n",
      "-0.00495112594217 1488\n",
      "-0.00495112594217 1488\n",
      "-0.00495112594217 1488\n",
      "0.00234842789359 1488\n",
      "0.00234842789359 1488\n",
      "0.00505754398182 1488\n",
      "0.00505754398182 1488\n",
      "0.00505754398182 1488\n",
      "0.00505754398182 1488\n",
      "0.00671835709363 1488\n",
      "0.00788658484817 1487\n",
      "0.00788658484817 1487\n",
      "0.00788658484817 1487\n",
      "0.00788658484817 1487\n",
      "0.00788658484817 1488\n",
      "0.00870668049902 1488\n",
      "0.00870668049902 1488\n",
      "0.00945771951228 1488\n",
      "0.00945771951228 1488\n",
      "0.00945771951228 1488\n",
      "0.00973698217422 1488\n",
      "0.00973698217422 1488\n",
      "0.00973698217422 1488\n",
      "0.00973698217422 1488\n",
      "0.00973698217422 1488\n",
      "0.00987866614014 1488\n",
      "0.00987866614014 1488\n",
      "0.0100410096347 1487\n",
      "0.0100410096347 1487\n",
      "0.0102957747877 1487\n",
      "0.0102957747877 1487\n",
      "0.0103892991319 1488\n",
      "0.0103892991319 1488\n",
      "0.0103892991319 1488\n",
      "0.0103892991319 1488\n",
      "0.0103892991319 1488\n",
      "0.0105378488079 1488\n",
      "0.0105999168009 1486"
     ]
    },
    {
     "ename": "ValueError",
     "evalue": "I/O operation on closed file",
     "output_type": "error",
     "traceback": [
      "\u001b[1;31m---------------------------------------------------------------------------\u001b[0m",
      "\u001b[1;31mValueError\u001b[0m                                Traceback (most recent call last)",
      "\u001b[1;32m<ipython-input-14-1ef669589b11>\u001b[0m in \u001b[0;36m<module>\u001b[1;34m()\u001b[0m\n\u001b[0;32m      1\u001b[0m \u001b[1;32mimport\u001b[0m \u001b[0mtime\u001b[0m\u001b[1;33m\u001b[0m\u001b[0m\n\u001b[0;32m      2\u001b[0m \u001b[1;32mwhile\u001b[0m \u001b[0mTrue\u001b[0m\u001b[1;33m:\u001b[0m\u001b[1;33m\u001b[0m\u001b[0m\n\u001b[1;32m----> 3\u001b[1;33m     \u001b[1;32mprint\u001b[0m \u001b[0mstr\u001b[0m\u001b[1;33m(\u001b[0m\u001b[0mrollpitchyaw\u001b[0m\u001b[1;33m.\u001b[0m\u001b[0mroll\u001b[0m\u001b[1;33m)\u001b[0m \u001b[1;33m+\u001b[0m \u001b[1;34m' '\u001b[0m \u001b[1;33m+\u001b[0m \u001b[0mstr\u001b[0m\u001b[1;33m(\u001b[0m\u001b[0mvehicle\u001b[0m\u001b[1;33m.\u001b[0m\u001b[0mchannels\u001b[0m\u001b[1;33m[\u001b[0m\u001b[1;34m'1'\u001b[0m\u001b[1;33m]\u001b[0m\u001b[1;33m)\u001b[0m\u001b[1;33m\u001b[0m\u001b[0m\n\u001b[0m\u001b[0;32m      4\u001b[0m     \u001b[0mtime\u001b[0m\u001b[1;33m.\u001b[0m\u001b[0msleep\u001b[0m\u001b[1;33m(\u001b[0m\u001b[1;36m0.1\u001b[0m\u001b[1;33m)\u001b[0m\u001b[1;33m\u001b[0m\u001b[0m\n",
      "\u001b[1;32mC:\\Users\\tmeta_000\\Anaconda2\\lib\\site-packages\\ipykernel\\iostream.pyc\u001b[0m in \u001b[0;36mwrite\u001b[1;34m(self, string)\u001b[0m\n\u001b[0;32m    315\u001b[0m \u001b[1;33m\u001b[0m\u001b[0m\n\u001b[0;32m    316\u001b[0m             \u001b[0mis_child\u001b[0m \u001b[1;33m=\u001b[0m \u001b[1;33m(\u001b[0m\u001b[1;32mnot\u001b[0m \u001b[0mself\u001b[0m\u001b[1;33m.\u001b[0m\u001b[0m_is_master_process\u001b[0m\u001b[1;33m(\u001b[0m\u001b[1;33m)\u001b[0m\u001b[1;33m)\u001b[0m\u001b[1;33m\u001b[0m\u001b[0m\n\u001b[1;32m--> 317\u001b[1;33m             \u001b[0mself\u001b[0m\u001b[1;33m.\u001b[0m\u001b[0m_buffer\u001b[0m\u001b[1;33m.\u001b[0m\u001b[0mwrite\u001b[0m\u001b[1;33m(\u001b[0m\u001b[0mstring\u001b[0m\u001b[1;33m)\u001b[0m\u001b[1;33m\u001b[0m\u001b[0m\n\u001b[0m\u001b[0;32m    318\u001b[0m             \u001b[1;32mif\u001b[0m \u001b[0mis_child\u001b[0m\u001b[1;33m:\u001b[0m\u001b[1;33m\u001b[0m\u001b[0m\n\u001b[0;32m    319\u001b[0m                 \u001b[1;31m# newlines imply flush in subprocesses\u001b[0m\u001b[1;33m\u001b[0m\u001b[1;33m\u001b[0m\u001b[0m\n",
      "\u001b[1;31mValueError\u001b[0m: I/O operation on closed file"
     ]
    }
   ],
   "source": [
    "import time\n",
    "while True:\n",
    "    print str(rollpitchyaw.roll * 57.2958) + ' ' + str(vehicle.channels['1'])\n",
    "    time.sleep(0.1)"
   ]
  },
  {
   "cell_type": "code",
   "execution_count": 127,
   "metadata": {
    "collapsed": false
   },
   "outputs": [
    {
     "name": "stdout",
     "output_type": "stream",
     "text": [
      "RAW_IMU: xacc=None,yacc=None,zacc=None\n"
     ]
    }
   ],
   "source": [
    "print vehicle.raw_imu"
   ]
  },
  {
   "cell_type": "code",
   "execution_count": null,
   "metadata": {
    "collapsed": true
   },
   "outputs": [],
   "source": [
    "vehicle.parameters.iteritems."
   ]
  }
 ],
 "metadata": {
  "anaconda-cloud": {},
  "kernelspec": {
   "display_name": "Python 2",
   "language": "python",
   "name": "python2"
  },
  "language_info": {
   "codemirror_mode": {
    "name": "ipython",
    "version": 2
   },
   "file_extension": ".py",
   "mimetype": "text/x-python",
   "name": "python",
   "nbconvert_exporter": "python",
   "pygments_lexer": "ipython2",
   "version": "2.7.12"
  },
  "widgets": {
   "state": {
    "125aa34eb2f54aedacc93a40a3f0a350": {
     "views": [
      {
       "cell_index": 7
      }
     ]
    },
    "1b376fda065940a992657ca953746c66": {
     "views": [
      {
       "cell_index": 7
      }
     ]
    },
    "9df3444d3fc44b9093d040888a66e0b8": {
     "views": [
      {
       "cell_index": 7
      }
     ]
    },
    "a475cf2f29004aeea5bc901544a01d9c": {
     "views": [
      {
       "cell_index": 6
      }
     ]
    },
    "b1480c37381e48599b31902b9ba8f160": {
     "views": [
      {
       "cell_index": 7
      }
     ]
    },
    "c18ad914e15a43fe8d86d9c40d6711f0": {
     "views": [
      {
       "cell_index": 7
      }
     ]
    },
    "e6efe922097449e8a1a098eeb124e932": {
     "views": [
      {
       "cell_index": 7
      }
     ]
    }
   },
   "version": "1.2.0"
  }
 },
 "nbformat": 4,
 "nbformat_minor": 1
}
